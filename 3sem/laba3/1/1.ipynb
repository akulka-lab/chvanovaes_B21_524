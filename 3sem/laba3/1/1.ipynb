{
  "nbformat": 4,
  "nbformat_minor": 0,
  "metadata": {
    "colab": {
      "provenance": []
    },
    "kernelspec": {
      "name": "python3",
      "display_name": "Python 3"
    },
    "language_info": {
      "name": "python"
    }
  },
  "cells": [
    {
      "cell_type": "markdown",
      "source": [
        "**Лабораторная работа №3. Фильтрация изображений и\n",
        "морфологические операции**"
      ],
      "metadata": {
        "id": "hdjAjbXCuteX"
      }
    },
    {
      "cell_type": "code",
      "source": [
        "from PIL import Image, ImageDraw\n",
        "import numpy as np\n",
        "import random\n",
        "import math"
      ],
      "metadata": {
        "id": "hnFMi2E90625"
      },
      "execution_count": 4,
      "outputs": []
    },
    {
      "cell_type": "markdown",
      "source": [
        "1) отфильтрованное монохромное (полутоновое) изображение\n"
      ],
      "metadata": {
        "id": "eaOr-yYXuu7C"
      }
    },
    {
      "cell_type": "code",
      "source": [
        "def monochrome(input_array):\n",
        "  height, width = input_array.shape[:2]\n",
        "  output_array = np.zeros((height, width), dtype=input_array.dtype)\n",
        "\n",
        "  for y in range(height):\n",
        "      for x in range(width):\n",
        "          output_array[y][x] = np.mean(input_array[y][x])\n",
        "\n",
        "  #return pim.fromarray(output_array, mode='L')\n",
        "  new_image = Image.fromarray(output_array)\n",
        "  new_image.save('new_image_monochrome.png')\n"
      ],
      "metadata": {
        "id": "pZXaqTa9bCvi"
      },
      "execution_count": 5,
      "outputs": []
    },
    {
      "cell_type": "code",
      "source": [
        "def main():\n",
        "  input_image = Image.open('dog.png')\n",
        "  input_array = np.array(input_image)\n",
        "  #window_size = 15\n",
        "\n",
        "  monochrome(input_array)\n",
        "\n",
        "\n",
        "if __name__ == '__main__':\n",
        "    main()"
      ],
      "metadata": {
        "id": "_RvBn2KEiruf"
      },
      "execution_count": 59,
      "outputs": []
    }
  ]
}