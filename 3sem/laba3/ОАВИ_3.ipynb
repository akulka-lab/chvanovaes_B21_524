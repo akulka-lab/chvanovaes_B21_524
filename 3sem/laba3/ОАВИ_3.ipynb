{
  "nbformat": 4,
  "nbformat_minor": 0,
  "metadata": {
    "colab": {
      "provenance": []
    },
    "kernelspec": {
      "name": "python3",
      "display_name": "Python 3"
    },
    "language_info": {
      "name": "python"
    }
  },
  "cells": [
    {
      "cell_type": "markdown",
      "source": [
        "**Лабораторная работа №3. Фильтрация изображений и\n",
        "морфологические операции**"
      ],
      "metadata": {
        "id": "hdjAjbXCuteX"
      }
    },
    {
      "cell_type": "code",
      "source": [
        "from PIL import Image, ImageDraw\n",
        "import numpy as np\n",
        "import random\n",
        "import math"
      ],
      "metadata": {
        "id": "hnFMi2E90625"
      },
      "execution_count": 4,
      "outputs": []
    },
    {
      "cell_type": "markdown",
      "source": [
        "1) отфильтрованное монохромное (полутоновое) изображение\n"
      ],
      "metadata": {
        "id": "eaOr-yYXuu7C"
      }
    },
    {
      "cell_type": "code",
      "source": [
        "def monochrome(input_array):\n",
        "  height, width = input_array.shape[:2]\n",
        "  output_array = np.zeros((height, width), dtype=input_array.dtype)\n",
        "\n",
        "  for y in range(height):\n",
        "      for x in range(width):\n",
        "          output_array[y][x] = np.mean(input_array[y][x])\n",
        "\n",
        "  #return pim.fromarray(output_array, mode='L')\n",
        "  new_image = Image.fromarray(output_array)\n",
        "  new_image.save('new_image_monochrome.png')\n"
      ],
      "metadata": {
        "id": "pZXaqTa9bCvi"
      },
      "execution_count": 5,
      "outputs": []
    },
    {
      "cell_type": "markdown",
      "source": [
        "2) разностное изображение (монохромный xor или модуль разности для полутона), операцией морфологического закрытия Closing"
      ],
      "metadata": {
        "id": "i5vp3s8RvBM4"
      }
    },
    {
      "cell_type": "code",
      "source": [
        "def salt_and_pepper(input_array, amount):\n",
        "  height, width = input_array.shape[:2]\n",
        "  output_array = input_array.copy()\n",
        "\n",
        "  # Считаем количество точек для \"соли\" и \"перца\"\n",
        "  num_salt = np.ceil(amount * height * width)\n",
        "  num_pepper  = np.ceil(amount * height * width)\n",
        "\n",
        "  coords_salt = [np.random.randint(0, i - 1, int(num_salt)) for i in [height, width]]\n",
        "  output_array[coords_salt[0], coords_salt[1]] = 0\n",
        "\n",
        "\n",
        "  coords_pepper = [np.random.randint(0, i - 1, int(num_pepper)) for i in input_array.shape]\n",
        "  output_array[coords_pepper[0], coords_pepper[1]] = 255\n",
        "\n",
        "  new_image = Image.fromarray(output_array)\n",
        "  new_image.save('new_image_salt_and_pepper.png')"
      ],
      "metadata": {
        "id": "LBGqAsyCmDY7"
      },
      "execution_count": 54,
      "outputs": []
    },
    {
      "cell_type": "code",
      "execution_count": 44,
      "metadata": {
        "id": "m1QPgtPSuP5n"
      },
      "outputs": [],
      "source": [
        "def erosion(input_array, kernel):\n",
        "  height, width = input_array.shape[:2]\n",
        "  kernel_height, kernel_width = kernel.shape\n",
        "\n",
        "  eroded_image = np.zeros((height, width), dtype=np.uint8)\n",
        "  pad_height, pad_width = kernel_height // 2, kernel_width // 2\n",
        "  min_value = 255\n",
        "\n",
        "  for i in range(pad_height, height - pad_height):\n",
        "    for j in range(pad_width, width - pad_width):\n",
        "      # Рассматриваем область входного изображения под ядром\n",
        "      region = input_array[i-pad_height:i+pad_height+1, j-pad_width:j+pad_width+1]\n",
        "      # Применяем операцию эрозии: находим минимум в области, где ядро == 1\n",
        "      eroded_image[i, j] = np.min(region)\n",
        "\n",
        "\n",
        "  return eroded_image\n",
        "\n",
        "def dilate(input_array, kernel):\n",
        "  height, width = input_array.shape[:2]\n",
        "  kernel_height, kernel_width = kernel.shape\n",
        "\n",
        "  dilate_image = np.zeros((height, width), dtype=np.uint8)\n",
        "  pad_height, pad_width = kernel_height // 2, kernel_width // 2\n",
        "\n",
        "  for i in range(pad_height, height - pad_height):\n",
        "      for j in range(pad_width, width - pad_width):\n",
        "        # Рассматриваем область входного изображения под ядром\n",
        "        region = input_array[i-pad_height:i+pad_height+1, j-pad_width:j+pad_width+1]\n",
        "        # Применяем операцию расширения: находим максимум в области, где ядро == 1\n",
        "        dilate_image[i][j] = np.max(region)\n",
        "\n",
        "\n",
        "  return dilate_image\n",
        "\n",
        "\n",
        "def closing(input_array, kernel):\n",
        "  temp = dilate(input_array, kernel)\n",
        "  output = erosion(temp, kernel)\n",
        "\n",
        "  output_image = Image.fromarray(output)\n",
        "  output_image.save('new_image_closing.png')"
      ]
    },
    {
      "cell_type": "code",
      "source": [
        "def main():\n",
        "  input_image = Image.open('девушка.png')\n",
        "  input_array = np.array(input_image)\n",
        "  #window_size = 15\n",
        "\n",
        "  monochrome(input_array)\n",
        "  amount = 0.05\n",
        "\n",
        "  input_image = Image.open('new_image_monochrome.png')\n",
        "  input_array = np.array(input_image)\n",
        "\n",
        "  salt_and_pepper(input_array, amount)\n",
        "\n",
        "  input_image = Image.open('new_image_salt_and_pepper.png')\n",
        "  input_array = np.array(input_image)\n",
        "\n",
        "  kernel = np.array([[1, 1, 1],\n",
        "                     [1, 1, 1],\n",
        "                     [1, 1, 1]], dtype=np.uint8)  # Определение ядра\n",
        "\n",
        "\n",
        "  closing(input_array, kernel)\n",
        "\n",
        "if __name__ == '__main__':\n",
        "    main()"
      ],
      "metadata": {
        "id": "_RvBn2KEiruf"
      },
      "execution_count": 55,
      "outputs": []
    }
  ]
}