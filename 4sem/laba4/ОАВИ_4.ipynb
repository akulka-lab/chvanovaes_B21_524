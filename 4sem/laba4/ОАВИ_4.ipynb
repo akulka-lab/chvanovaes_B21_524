{
  "nbformat": 4,
  "nbformat_minor": 0,
  "metadata": {
    "colab": {
      "provenance": []
    },
    "kernelspec": {
      "name": "python3",
      "display_name": "Python 3"
    },
    "language_info": {
      "name": "python"
    }
  },
  "cells": [
    {
      "cell_type": "markdown",
      "source": [
        "**Лабораторная работа №4. Выделение контуров на изображении**"
      ],
      "metadata": {
        "id": "52UUkx4yBL6a"
      }
    },
    {
      "cell_type": "code",
      "execution_count": null,
      "metadata": {
        "id": "prFlqWoyBJPG"
      },
      "outputs": [],
      "source": [
        "from PIL import Image, ImageDraw\n",
        "import numpy as np\n",
        "import math\n",
        "import random\n",
        "from scipy import signal\n",
        "import os"
      ]
    },
    {
      "cell_type": "markdown",
      "source": [
        "Выполняется одно задание на выбор. В качестве входных данных берётся цветное\n",
        "или полутоновое изображение. Цветное изображение сводится к полутоновому, вариант 9.\n",
        "Демонстрируется:\n",
        "\n",
        "1) Исходное цветное изображение.\n",
        "\n",
        "2) Полутоновое изображение.\n",
        "\n",
        "3) Три градиентные матрицы Gx, Gy, G, нормализованные так, что значения\n",
        "яркости лежат от 0 до 255.\n",
        "\n",
        "4) Бинаризованная градиентная матрица G, где порог подбирается опытным\n",
        "путём.\n"
      ],
      "metadata": {
        "id": "RvdwcVEEBWIp"
      }
    },
    {
      "cell_type": "code",
      "source": [
        "def monochrome(input_array):\n",
        "  height, width = input_array.shape[:2]\n",
        "  output_array = np.zeros((height, width), dtype=input_array.dtype)\n",
        "\n",
        "  for y in range(height):\n",
        "      for x in range(width):\n",
        "          output_array[y][x] = np.mean(input_array[y][x])\n",
        "\n",
        "  #return pim.fromarray(output_array, mode='L')\n",
        "  new_image = Image.fromarray(output_array)\n",
        "  new_image.save('new_image_monochrome.png')\n"
      ],
      "metadata": {
        "id": "z1T0ZuOCBWaS"
      },
      "execution_count": null,
      "outputs": []
    },
    {
      "cell_type": "code",
      "source": [
        "def get_pixel(pixel_grad, T) :\n",
        "  if pixel_grad > T :\n",
        "    return 255\n",
        "  else :\n",
        "    return 0\n",
        "\n",
        "def pruitt_operator(input_array, T):\n",
        "  height, width = input_array.shape[:2]\n",
        "  input_array = np.array(input_array)\n",
        "\n",
        "  # Оператор Прюитт 5x5\n",
        "  kernel_x = np.array([[-1, -1, -1, -1, -1],\n",
        "                      [0, 0, 0, 0, 0],\n",
        "                      [0, 0, 0, 0, 0],\n",
        "                      [0, 0, 0, 0, 0],\n",
        "                      [1, 1, 1, 1, 1]])\n",
        "\n",
        "  kernel_y = np.array([[-1, 0, 0, 0, 1],\n",
        "                      [-1, 0, 0, 0, 1],\n",
        "                      [-1, 0, 0, 0, 1],\n",
        "                      [-1, 0, 0, 0, 1],\n",
        "                      [-1, 0, 0, 0, 1]])\n",
        "\n",
        "  # Рассчет Gx и Gy\n",
        "  gradient_x = signal.convolve2d(input_array, kernel_x, boundary='symm', mode='same')\n",
        "  gradient_y = signal.convolve2d(input_array, kernel_y, boundary='symm', mode='same')\n",
        "\n",
        "  # Поиск градиента\n",
        "  gradient = np.abs(gradient_x) + np.abs(gradient_y)\n",
        "\n",
        "  # Нормализация градиента Gx\n",
        "  normalized_gradient_x = (gradient_x / np.max(gradient_x)) * 255\n",
        "  normalized_gradient_x = normalized_gradient_x.astype(np.uint8)\n",
        "  new_image = Image.fromarray(normalized_gradient_x)\n",
        "  new_image.save('new_image_normalized_gradient_x.png')\n",
        "\n",
        "  # Нормализация градиента Gy\n",
        "  normalized_gradient_y = (gradient_y / np.max(gradient_y)) * 255\n",
        "  normalized_gradient_y = normalized_gradient_y.astype(np.uint8)\n",
        "  new_image = Image.fromarray(normalized_gradient_y)\n",
        "  new_image.save('new_image_normalized_gradient_y.png')\n",
        "\n",
        "  # Нормализация градиента G\n",
        "  normalized_gradient = (gradient / np.max(gradient)) * 255\n",
        "  normalized_gradient = normalized_gradient.astype(np.uint8)\n",
        "  new_image = Image.fromarray(normalized_gradient)\n",
        "  new_image.save('new_image_normalized_gradien.png')\n",
        "\n",
        "  # Применение оператора Пьюитта к изображению\n",
        "  output_array = np.zeros_like(input_array)\n",
        "  normalized_gradient = (gradient / np.max(gradient)) * 255\n",
        "  for x in range(input_array.shape[0]) :\n",
        "    for y in range(input_array.shape[1]) :\n",
        "      output_array[x, y] = get_pixel(normalized_gradient[x, y], T)\n",
        "\n",
        "  output_image = Image.fromarray(output_array.astype(np.uint8), 'L')\n",
        "  output_image.save('new_image_pruitt_operator.png')"
      ],
      "metadata": {
        "id": "fHFBWJbQF0ub"
      },
      "execution_count": null,
      "outputs": []
    },
    {
      "cell_type": "code",
      "source": [
        "def main():\n",
        "  input_image = Image.open('japan.png')\n",
        "  input_array = np.array(input_image)\n",
        "\n",
        "  monochrome(input_array)\n",
        "\n",
        "  input_image = Image.open('new_image_monochrome.png')\n",
        "  input_array = np.array(input_image)\n",
        "\n",
        "  T = 20\n",
        "  pruitt_operator(input_array, T)\n",
        "\n",
        "if __name__ == '__main__':\n",
        "    main()"
      ],
      "metadata": {
        "id": "_XwrqCurF07G"
      },
      "execution_count": null,
      "outputs": []
    }
  ]
}