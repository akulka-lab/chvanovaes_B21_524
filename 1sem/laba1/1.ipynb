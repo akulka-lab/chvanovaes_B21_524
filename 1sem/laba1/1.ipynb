{
  "nbformat": 4,
  "nbformat_minor": 0,
  "metadata": {
    "colab": {
      "provenance": []
    },
    "kernelspec": {
      "name": "python3",
      "display_name": "Python 3"
    },
    "language_info": {
      "name": "python"
    }
  },
  "cells": [
    {
      "cell_type": "markdown",
      "source": [
        "**Лабораторная работа №1. Передискретизация\n",
        "изображений**"
      ],
      "metadata": {
        "id": "NEoXAKpT7L62"
      }
    },
    {
      "cell_type": "code",
      "execution_count": 1,
      "metadata": {
        "id": "3dRT1NBTLJuB"
      },
      "outputs": [],
      "source": [
        "from PIL import Image, ImageDraw\n",
        "import numpy as np"
      ]
    },
    {
      "cell_type": "markdown",
      "source": [
        "1) Растяжение (интерполяция) изображения в M раз;"
      ],
      "metadata": {
        "id": "4pzygX0Urhvg"
      }
    },
    {
      "cell_type": "code",
      "source": [
        "def stretching(input_array, M):\n",
        "  height, width, channels = input_array.shape\n",
        "\n",
        "  new_height = int(height * M)\n",
        "  new_width = int(width * M)\n",
        "\n",
        "  output_array = np.zeros((new_height, new_width, input_array.shape[2]), dtype = input_array.dtype)\n",
        "\n",
        "  #алгоритм поиска ближайшего соседа.\n",
        "  for i in range(new_height):\n",
        "    for j in range(new_width):\n",
        "      x = min(int(round(float(j) / float(new_width) * float(width))), width - 1)\n",
        "      y = min(int(round(float(i) / float(new_height) * float(height))), height - 1)\n",
        "\n",
        "      output_array[i, j, :] = input_array[y, x, :]\n",
        "\n",
        "  new_image = Image.fromarray(output_array)\n",
        "  new_image.save('new_image_stretching.png')\n"
      ],
      "metadata": {
        "id": "ZvTdfsELrgj5"
      },
      "execution_count": 2,
      "outputs": []
    },
    {
      "cell_type": "markdown",
      "source": [
        "2) Сжатие (децимация) изображения в N раз;"
      ],
      "metadata": {
        "id": "ckOZrueirjQs"
      }
    },
    {
      "cell_type": "code",
      "source": [
        "def compression(input_array, N):\n",
        "  height, width, channels = input_array.shape\n",
        "\n",
        "  new_height = int(height / N)\n",
        "  new_width = int(width / N)\n",
        "\n",
        "  output_array = np.zeros((new_height, new_width, input_array.shape[2]), dtype = input_array.dtype)\n",
        "\n",
        "  for i in range(new_height):\n",
        "    for j in range(new_width):\n",
        "      x = min(int(round(float(j) / float(new_width) * float(width))), width - 1)\n",
        "      y = min(int(round(float(i) / float(new_height) * float(height))), height - 1)\n",
        "\n",
        "      output_array[i, j, :] = input_array[y, x, :]\n",
        "\n",
        "  new_image = Image.fromarray(output_array)\n",
        "  new_image.save('new_image_compression.png')\n"
      ],
      "metadata": {
        "id": "9CTp-nteGb5W"
      },
      "execution_count": 3,
      "outputs": []
    },
    {
      "cell_type": "markdown",
      "source": [
        "3) Передискретизация изображения в K=M/N раз путём растяжения и\n",
        "последующего сжатия (в два прохода);"
      ],
      "metadata": {
        "id": "9xDAHQNgrjor"
      }
    },
    {
      "cell_type": "code",
      "source": [
        "def oversampling_2(input_array, N, M):\n",
        "  height, width, channels = input_array.shape\n",
        "\n",
        "  new_height = int(height / N)\n",
        "  new_width = int(width / N)\n",
        "\n",
        "  output_array_1 = np.zeros((new_height, new_width, input_array.shape[2]), dtype = input_array.dtype)\n",
        "\n",
        "  for i in range(new_height):\n",
        "    for j in range(new_width):\n",
        "      x = min(int(round(float(j) / float(new_width) * float(width))), width - 1)\n",
        "      y = min(int(round(float(i) / float(new_height) * float(height))), height - 1)\n",
        "\n",
        "      output_array_1[i, j, :] = input_array[y, x, :]\n",
        "\n",
        "\n",
        "  new_height = int(height * M)\n",
        "  new_width = int(width * M)\n",
        "\n",
        "  output_array_2 = np.zeros((new_height, new_width, output_array_1.shape[2]), dtype = output_array_1.dtype)\n",
        "\n",
        "  for i in range(new_height):\n",
        "    for j in range(new_width):\n",
        "      x = min(int(round(float(j) / float(new_width) * float(width))), width - 1)\n",
        "      y = min(int(round(float(i) / float(new_height) * float(height))), height - 1)\n",
        "\n",
        "      output_array_2[i, j, :] = input_array[y, x, :]\n",
        "\n",
        "  new_image = Image.fromarray(output_array_2)\n",
        "  new_image.save('new_image_oversampling_2.png')\n"
      ],
      "metadata": {
        "id": "QP4AI3aaIVsU"
      },
      "execution_count": 4,
      "outputs": []
    },
    {
      "cell_type": "markdown",
      "source": [
        "4) Передискретизация изображения в K раз за один проход."
      ],
      "metadata": {
        "id": "jmvd7hhNroS-"
      }
    },
    {
      "cell_type": "code",
      "source": [
        "def oversampling_1(input_array, N, M):\n",
        "  height, width, channels = input_array.shape\n",
        "\n",
        "  new_height = int(height * M / N)\n",
        "  new_width = int(width * M / N)\n",
        "\n",
        "  output_array = np.zeros((new_height, new_width, input_array.shape[2]), dtype = input_array.dtype)\n",
        "\n",
        "  for i in range(new_height):\n",
        "    for j in range(new_width):\n",
        "      x = min(int(round(float(j) / float(new_width) * float(width))), width - 1)\n",
        "      y = min(int(round(float(i) / float(new_height) * float(height))), height - 1)\n",
        "\n",
        "      output_array[i, j, :] = input_array[y, x, :]\n",
        "\n",
        "  new_image = Image.fromarray(output_array)\n",
        "  new_image.save('new_image_oversampling_1.png')"
      ],
      "metadata": {
        "id": "dDtfUuQrSQ8l"
      },
      "execution_count": 5,
      "outputs": []
    },
    {
      "cell_type": "code",
      "source": [
        "def main():\n",
        "  input_image = Image.open('muar.png')\n",
        "  input_array = np.array(input_image)\n",
        "\n",
        "  N = 3\n",
        "  compression(input_array, N)\n",
        "\n",
        "  M = 3\n",
        "  stretching(input_array, M)\n",
        "\n",
        "  M = 4\n",
        "  N = 2\n",
        "  oversampling_2(input_array, N, M)\n",
        "\n",
        "  M = 0.5\n",
        "  N = 3\n",
        "  oversampling_1(input_array, N, M)\n",
        "\n",
        "\n",
        "\n",
        "if __name__ == '__main__':\n",
        "    main()"
      ],
      "metadata": {
        "id": "PSQt7eKTxC5M"
      },
      "execution_count": 6,
      "outputs": []
    }
  ]
}