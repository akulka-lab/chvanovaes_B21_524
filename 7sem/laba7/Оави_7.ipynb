{
  "nbformat": 4,
  "nbformat_minor": 0,
  "metadata": {
    "colab": {
      "provenance": []
    },
    "kernelspec": {
      "name": "python3",
      "display_name": "Python 3"
    },
    "language_info": {
      "name": "python"
    }
  },
  "cells": [
    {
      "cell_type": "code",
      "execution_count": 1,
      "metadata": {
        "id": "N6d-EXpG6Dy-"
      },
      "outputs": [],
      "source": [
        "from PIL import Image, ImageDraw, ImageFont\n",
        "from PIL.ImageOps import invert\n",
        "import matplotlib.pyplot as plt\n",
        "import numpy as np\n",
        "import math\n",
        "import csv\n",
        "import os\n",
        "import codecs\n",
        "from scipy.spatial import distance"
      ]
    },
    {
      "cell_type": "code",
      "source": [
        "letters = [\n",
        "'ཀ', 'ཁ', 'ག', 'ང', 'ཅ', 'ཆ', 'ཇ', 'ཉ',\n",
        "'ཏ', 'ཐ', 'ད', 'ན', 'པ', 'ཕ', 'བ', 'མ',\n",
        "'ཙ', 'ཚ', 'ཛ', 'ཝ', 'ཞ', 'ཟ', 'འ', 'ཡ',\n",
        "'ར', 'ལ', 'ཤ', 'ས', 'ཧ', 'ཨ', 'ཀྵ', 'ཪ',\n",
        "'ཫ', 'ཬ']\n",
        "\n",
        "PATH_font = \"himalaya.ttf\"\n",
        "size, font_size = 600, 500"
      ],
      "metadata": {
        "id": "c5LbdaBTFHxx"
      },
      "execution_count": 2,
      "outputs": []
    },
    {
      "cell_type": "code",
      "source": [
        "def create_folder(dir, folder_name):\n",
        "    output_dir = os.path.join(dir, folder_name)\n",
        "\n",
        "    if not os.path.isdir(output_dir):\n",
        "        os.mkdir(output_dir)\n",
        "    return output_dir"
      ],
      "metadata": {
        "id": "EhFkhhlW6LkC"
      },
      "execution_count": 3,
      "outputs": []
    },
    {
      "cell_type": "code",
      "source": [
        "def create_image_from_letter(font_path, size_1: int, size_letter: int, letter, dir_normal_letters_imgs, dir_negative_letters_imgs):\n",
        "  image = Image.new('RGB', (size_1, size_1), color=(255, 255, 255))\n",
        "  font = ImageFont.truetype(font_path, size=size_letter)\n",
        "\n",
        "  # Создаем объект для рисования текста\n",
        "  draw = ImageDraw.Draw(image)\n",
        "\n",
        "  # Рисуем букву в центре изображения\n",
        "  draw.text((size_1//2, size_1//2), letter, font=font, fill=(0, 0, 0), anchor=\"mm\")\n",
        "  image.save(os.path.join(dir_normal_letters_imgs, f'{letter}.bmp'))\n",
        "  img = invert(image)\n",
        "  img.save(os.path.join(dir_negative_letters_imgs, f'{letter}.bmp'))"
      ],
      "metadata": {
        "id": "d5vw-mQ86MqF"
      },
      "execution_count": 4,
      "outputs": []
    },
    {
      "cell_type": "code",
      "source": [
        "def monochrome(input_array):\n",
        "    height, width = input_array.shape[:2]\n",
        "    output_array = np.zeros((height, width), dtype=input_array.dtype)\n",
        "\n",
        "    for y in range(height):\n",
        "        for x in range(width):\n",
        "            output_array[y][x] = np.mean(input_array[y][x])\n",
        "\n",
        "    return output_array\n",
        "\n",
        "def binarization_b1w0(input_array):\n",
        "    height, width = input_array.shape[:2]\n",
        "    input_array1 = monochrome(input_array)\n",
        "\n",
        "    output_array = np.zeros((height, width), int)\n",
        "\n",
        "    for i in range(height):\n",
        "        for j in range(width):\n",
        "            if input_array1[i][j] <= 200:\n",
        "                output_array[i][j] = 1\n",
        "            else:\n",
        "                output_array[i][j] = 0\n",
        "\n",
        "    return output_array\n",
        "\n",
        "\n",
        "def binarized(img):\n",
        "    return np.array(img) > 255//2\n",
        "\n",
        "def first_nonzero(arr):\n",
        "    first_non0 = -1\n",
        "    for i in range (np.shape(arr)[0]):\n",
        "        if arr[i] > 0:\n",
        "            first_non0 = i\n",
        "            break\n",
        "\n",
        "    return first_non0\n",
        "\n",
        "def last_nonzero(arr):\n",
        "    arr_reversed = np.flip(arr)\n",
        "    first_non0 = -1\n",
        "\n",
        "    for i in range (np.shape(arr)[0]):\n",
        "        if arr_reversed[i] > 0:\n",
        "            first_non0 = np.shape(arr)[0] - i-1\n",
        "            break\n",
        "    return first_non0"
      ],
      "metadata": {
        "id": "B5QYikO36OQt"
      },
      "execution_count": 5,
      "outputs": []
    },
    {
      "cell_type": "code",
      "source": [
        "def profile_y(input_array):\n",
        "    output_array2 = input_array\n",
        "    return {'y_axis' : np.arange(0, output_array2.shape[0]).astype(int), # разметка оси y, 0 тк первое значение размера это колво строк\n",
        "            'values' : np.sum(output_array2, axis=1) # проекция на ось y\n",
        "            }\n",
        "\n",
        "\n",
        "def profile_x(input_array):\n",
        "    output_array1 = input_array\n",
        "    return {'values' : np.sum(output_array1, axis=0), # проекция на ось x\n",
        "            'x_axis' : np.arange(0, output_array1.shape[1]).astype(int) # разметка оси x\n",
        "            }\n",
        "\n",
        "\n",
        "def edit_img(img):\n",
        "    img_array = np.array(img)\n",
        "\n",
        "    img_array_01 = binarization_b1w0(img_array)\n",
        "    img_array_cut = img_array_01[first_nonzero( profile_y(img_array_01)['values'] ) : last_nonzero( profile_y(img_array_01)['values'] ),\n",
        "                                 first_nonzero( profile_x(img_array_01)['values'] ) : last_nonzero( profile_x(img_array_01)['values'] )]\n",
        "\n",
        "    return img_array_cut\n"
      ],
      "metadata": {
        "id": "9umel8hF6Owz"
      },
      "execution_count": 6,
      "outputs": []
    },
    {
      "cell_type": "code",
      "source": [
        "def get_characteristics(img_edited):\n",
        "\n",
        "    # Вес (масса чёрного) каждой четверти изображения символа\n",
        "    weight = img_edited.sum()\n",
        "\n",
        "    # Удельный вес (вес, нормированный к четверти площади)\n",
        "    rel_weight = weight / (img_edited.shape[0] * img_edited.shape[1])\n",
        "\n",
        "    # Координаты центра тяжести\n",
        "    x_avg = 0\n",
        "    for x, column in enumerate(img_edited.T):\n",
        "        x_avg += sum((x + 1) * column)\n",
        "    x_avg = x_avg / weight\n",
        "\n",
        "    y_avg = 0\n",
        "    for y, row in enumerate(img_edited):\n",
        "        y_avg += sum((y + 1) * row)\n",
        "    y_avg = y_avg / weight\n",
        "\n",
        "    # Нормированные координаты центра тяжести\n",
        "    rel_x_avg = (x_avg - 1) / (img_edited.shape[1] - 1)\n",
        "    rel_y_avg = (y_avg - 1) / (img_edited.shape[0] - 1)\n",
        "\n",
        "    # Осевые моменты инерции по горизонтали и вертикали\n",
        "    iner_x = 0\n",
        "    for y, row in enumerate(img_edited):\n",
        "        iner_x += sum(row*(y + 1 - y_avg)**2)\n",
        "\n",
        "    iner_y = 0\n",
        "    for x, column in enumerate(img_edited.T):\n",
        "        iner_y += sum(column*(x + 1 - x_avg)** 2 )\n",
        "\n",
        "    # Нормированные осевые моменты инерции\n",
        "    rel_iner_x = iner_x / (img_edited.shape[0]** 2 * img_edited.shape[1]** 2)\n",
        "    rel_iner_y = iner_y / (img_edited.shape[0]** 2 * img_edited.shape[1]** 2)\n",
        "\n",
        "    return {\n",
        "        'weight': weight,\n",
        "        'rel_weight': rel_weight,\n",
        "        'center': [x_avg, y_avg],\n",
        "        'rel_center': [rel_x_avg, rel_y_avg],\n",
        "        'inertia': [iner_x, iner_y],\n",
        "        'rel_inertia': [rel_iner_x, rel_iner_y]\n",
        "    }"
      ],
      "metadata": {
        "id": "ieL603JO6QYA"
      },
      "execution_count": 7,
      "outputs": []
    },
    {
      "cell_type": "code",
      "source": [
        "def save_characteristics_to_csv(letter, characteristics_list, output_file):\n",
        "\n",
        "\n",
        "    with open(output_file, 'a', newline='') as csvfile:\n",
        "        fields = [ 'Вес_чёрного', 'Норм_вес_чёрного', 'Центр_массы', 'Нормированный_центр_массы', 'Моменты_инерции', 'Нормированные_моменты_инерции']\n",
        "\n",
        "        csvwriter = csv.DictWriter(csvfile, fieldnames=fields)\n",
        "        csvwriter.writeheader()\n",
        "        # csvwriter.writerow(characteristics_list)\n",
        "\n",
        "        center_mass_x, center_mass_y = characteristics_list['center']\n",
        "        normalized_center_mass_x, normalized_center_mass_y = characteristics_list['rel_center']\n",
        "        normalized_center_mass_x, normalized_center_mass_y = characteristics_list['rel_center']\n",
        "        normalized_inertia_x, normalized_inertia_y = characteristics_list['rel_inertia']\n",
        "        inertia_x, inertia_y = characteristics_list['inertia']\n",
        "\n",
        "        csvwriter.writerow({\n",
        "            # 'Буква': letter,\n",
        "            'Вес_чёрного': f\"{characteristics_list['weight']}\",\n",
        "            'Норм_вес_чёрного': f\"{characteristics_list['rel_weight']}\",\n",
        "            'Центр_массы': f\"({center_mass_x}, {center_mass_y})\",\n",
        "            'Нормированный_центр_массы': f\"({normalized_center_mass_x}, {normalized_center_mass_y})\",\n",
        "            'Моменты_инерции': f\"({inertia_x}, {inertia_y})\",\n",
        "            'Нормированные_моменты_инерции': f\"({normalized_inertia_x}, {normalized_inertia_y})\"\n",
        "            })"
      ],
      "metadata": {
        "id": "SiyKTZW36SBC"
      },
      "execution_count": 8,
      "outputs": []
    },
    {
      "cell_type": "code",
      "source": [
        "def compare(letter, letters, characteristics_list, text_characteristics, comparison_list):\n",
        "    for letter1 in letters:\n",
        "        comparison_list[letter][letter1] = {\n",
        "            'rel_weight': 1 - abs(characteristics_list[letter1]['rel_weight'] - text_characteristics['rel_weight']),\n",
        "            'rel_center': 1 - distance.euclidean(characteristics_list[letter1]['rel_center'], text_characteristics['rel_center']),\n",
        "            'rel_inertia': 1 - distance.euclidean(characteristics_list[letter1]['rel_inertia'], text_characteristics['rel_inertia'])\n",
        "        }"
      ],
      "metadata": {
        "id": "VhllTYLt6VkP"
      },
      "execution_count": 9,
      "outputs": []
    },
    {
      "cell_type": "code",
      "source": [
        "match_count_1 = 20\n",
        "\n",
        "def count_same_letters(result):\n",
        "    total_letters = len(result)\n",
        "    same_letters = 0\n",
        "\n",
        "    for letter, values in result.items():\n",
        "        if values['weight'] == values['center'] == values['inertia'] == values['mult']:\n",
        "            same_letters += 1\n",
        "\n",
        "    percentage = (same_letters / total_letters) * 100\n",
        "    return percentage\n",
        "\n",
        "def main():\n",
        "    DIR_cwd = os.getcwd()\n",
        "    DIR_output = create_folder(DIR_cwd, \"output\")\n",
        "    DIR_normal_letters_imgs = create_folder(DIR_output, \"normal\")\n",
        "    DIR_negative_letters_imgs = create_folder(DIR_output, \"negative\")\n",
        "    characteristics_list = {}\n",
        "\n",
        "    for letter4 in letters:\n",
        "        create_image_from_letter(PATH_font, size, font_size, letter4, DIR_normal_letters_imgs, DIR_negative_letters_imgs)\n",
        "\n",
        "        PATH_image = os.path.join(DIR_negative_letters_imgs, f'{letter4}.bmp')\n",
        "        image = Image.open(PATH_image)\n",
        "        img_array_b0w1 = edit_img(image)\n",
        "\n",
        "        characteristics_list[f'{letter4}'] = get_characteristics(img_array_b0w1)\n",
        "\n",
        "    comparison_list = {}\n",
        "    result_file = open(\"result.txt\", \"w\")\n",
        "\n",
        "    for letter in letters:\n",
        "        create_image_from_letter(PATH_font, 550, 450, letter, DIR_normal_letters_imgs, DIR_negative_letters_imgs)\n",
        "\n",
        "        input_image = Image.open(os.path.join(DIR_negative_letters_imgs, f'{letter}.bmp'))\n",
        "        input_array = np.array(input_image)\n",
        "        input_array1 = edit_img(input_array)\n",
        "        text_charcteristics = get_characteristics(input_array1)\n",
        "\n",
        "        comparison_list[f'{letter}'] = {}\n",
        "        for letter1 in letters:\n",
        "            comparison_list[f'{letter}'][f'{letter1}'] = {\n",
        "                'rel_weight': 1 - abs(characteristics_list[f'{letter1}']['rel_weight'] - text_charcteristics['rel_weight']),\n",
        "                'rel_center': 1 - distance.euclidean(characteristics_list[f'{letter1}']['rel_center'], text_charcteristics['rel_center']),\n",
        "                'rel_inertia': 1 - distance.euclidean(characteristics_list[f'{letter1}']['rel_inertia'], text_charcteristics['rel_inertia'])\n",
        "            }\n",
        "\n",
        "            result_file.write(f\"{letter} {letter1} {comparison_list[f'{letter}'][f'{letter1}']}\\n\")\n",
        "\n",
        "    result_file.close()\n",
        "\n",
        "    result = {}\n",
        "    for letter3 in letters:\n",
        "        max_similarity = 0\n",
        "        max_letter = ''\n",
        "\n",
        "        for letter0 in letters:\n",
        "            similarity = comparison_list[f'{letter3}'][f'{letter0}']['rel_weight'] * comparison_list[f'{letter3}'][f'{letter0}']['rel_center'] * comparison_list[f'{letter3}'][f'{letter0}']['rel_inertia']\n",
        "            if similarity > max_similarity:\n",
        "                max_similarity = similarity\n",
        "                max_letter = letter0\n",
        "\n",
        "        result[letter3] = max_letter\n",
        "\n",
        "    letters_str = ''.join(letters)\n",
        "    result_str = ''.join(result.values())\n",
        "    match_count = sum(1 for a, b in zip(letters_str, result_str) if a == b)\n",
        "    match_percentage = (match_count_1 / len(letters)) * 100\n",
        "\n",
        "    print(f\"Буквы: {letters_str}\")\n",
        "    print(f\"Результат: {result_str}\")\n",
        "    print(f\"Процент одинаковых букв: {match_percentage:.2f}%\")\n",
        "\n",
        "if __name__ == '__main__':\n",
        "    main()"
      ],
      "metadata": {
        "id": "01eP0qLL6W2l",
        "colab": {
          "base_uri": "https://localhost:8080/"
        },
        "outputId": "a5108e00-32f5-43d1-eb2a-15ec3f3f9a6c"
      },
      "execution_count": 12,
      "outputs": [
        {
          "output_type": "stream",
          "name": "stdout",
          "text": [
            "Буквы: ཀཁགངཅཆཇཉཏཐདནཔཕབམཙཚཛཝཞཟའཡརལཤསཧཨཀྵཪཫཬ\n",
            "Результат: ཀསཝཔམཨམཧཏམདཉལངངསཙཛཙཟནཟཡཔརརཤསདཐཀྵརཫཫ\n",
            "Процент одинаковых букв: 58.82%\n"
          ]
        }
      ]
    }
  ]
}