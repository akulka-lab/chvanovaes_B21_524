{
  "nbformat": 4,
  "nbformat_minor": 0,
  "metadata": {
    "colab": {
      "provenance": []
    },
    "kernelspec": {
      "name": "python3",
      "display_name": "Python 3"
    },
    "language_info": {
      "name": "python"
    }
  },
  "cells": [
    {
      "cell_type": "markdown",
      "source": [
        "**Лабораторная работа №2. Обесцвечивание и бинаризация растровых изображений**"
      ],
      "metadata": {
        "id": "YvEgTmeB7Nu2"
      }
    },
    {
      "cell_type": "code",
      "execution_count": null,
      "metadata": {
        "id": "sZ8fnHmBp_Tf"
      },
      "outputs": [],
      "source": [
        "from PIL import Image, ImageDraw\n",
        "import numpy as np\n",
        "import math"
      ]
    },
    {
      "cell_type": "markdown",
      "source": [
        "1. Приведение полноцветного изображения к полутоновому. Новое изображение\n",
        "создаётся в режиме полутона (1 яркостный канал, формат bmp), где яркость\n",
        "каждого пикселя вычисляется (взвешенным) усреднением каналов исходного\n",
        "полноцветного изображения.\n"
      ],
      "metadata": {
        "id": "mQVhtdllnvrC"
      }
    },
    {
      "cell_type": "code",
      "source": [
        "def semitone_photoshop(input_array):\n",
        "  output_array = (0.3 * input_array[:, :, 0] + 0.59 * input_array[:, :, 1] + 0.11 * input_array[:, :, 2]).astype(np.uint8)\n",
        "\n",
        "  new_image = Image.fromarray(output_array)\n",
        "  new_image.save('new_image_semitone_photoshop.png')"
      ],
      "metadata": {
        "id": "btDQDQLenve0"
      },
      "execution_count": 18,
      "outputs": []
    },
    {
      "cell_type": "code",
      "source": [
        "def main():\n",
        "  input_image = Image.open('207_12.png')\n",
        "  input_array = np.array(input_image)\n",
        "\n",
        "  semitone_photoshop(input_array)\n",
        "\n",
        "if __name__ == '__main__':\n",
        "    main()"
      ],
      "metadata": {
        "id": "UQfGe6s-8ytG"
      },
      "execution_count": 19,
      "outputs": []
    }
  ]
}