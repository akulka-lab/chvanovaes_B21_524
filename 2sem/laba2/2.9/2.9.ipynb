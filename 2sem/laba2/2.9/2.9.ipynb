{
  "nbformat": 4,
  "nbformat_minor": 0,
  "metadata": {
    "colab": {
      "provenance": []
    },
    "kernelspec": {
      "name": "python3",
      "display_name": "Python 3"
    },
    "language_info": {
      "name": "python"
    }
  },
  "cells": [
    {
      "cell_type": "markdown",
      "source": [
        "**Лабораторная работа №2. Обесцвечивание и бинаризация растровых изображений**"
      ],
      "metadata": {
        "id": "YvEgTmeB7Nu2"
      }
    },
    {
      "cell_type": "code",
      "execution_count": null,
      "metadata": {
        "id": "sZ8fnHmBp_Tf"
      },
      "outputs": [],
      "source": [
        "from PIL import Image, ImageDraw\n",
        "import numpy as np\n",
        "import math"
      ]
    },
    {
      "cell_type": "markdown",
      "source": [
        "2. Приведение полутонового изображения к монохромному методом пороговой\n",
        "обработки. Демонстрируется на нескольких изображениях, например: контурная\n",
        "карта, рентгеновский снимок, скриншот из мультфильма, фотография, отпечаток\n",
        "пальца, неравномерно засвеченная страница текста. С помощью алгоритма адаптивной бинаризации Сингха"
      ],
      "metadata": {
        "id": "mQVhtdllnvrC"
      }
    },
    {
      "cell_type": "code",
      "source": [
        "def adaptive_singh_threshold_0(window_size):\n",
        "  input_image = Image.open('new_image_semitone_photoshop_1.png')\n",
        "  input_array = np.array(input_image)\n",
        "\n",
        "  height, width = input_array.shape[:2]\n",
        "  k = 0.1\n",
        "\n",
        "  if window_size % 2 == 0:\n",
        "    window_size += 1\n",
        "\n",
        "  pad_img = np.pad(input_array, window_size, mode = \"reflect\")\n",
        "  output_array = np.zeros((height, width), dtype=input_array.dtype)\n",
        "\n",
        "  for i in range(height):\n",
        "    for j in range(width):\n",
        "\n",
        "      # Вычислите среднее значение и стандартное отклонение для окружения клетки\n",
        "      local_window = pad_img[i:i+window_size, j:j+window_size]\n",
        "      local_mean = np.mean(local_window)\n",
        "      local_delta = np.std(local_window)\n",
        "\n",
        "      # Вычислите пороговое значение на основе функции Сингха\n",
        "      if local_mean != 0 and 1 - local_delta != 0:\n",
        "        threshold = local_mean * (1 + k * ((local_delta / (1 - local_delta) - 1)))\n",
        "      else:\n",
        "        threshold = 0\n",
        "\n",
        "      # Примените бинаризацию пикселя\n",
        "      if input_array[i, j] > threshold:\n",
        "        output_array[i, j] = 255\n",
        "      else:\n",
        "        output_array[i, j] = 0\n",
        "\n",
        "\n",
        "  new_image = Image.fromarray(output_array)\n",
        "  new_image.save('new_image_adaptive_singh_threshold_1.png')"
      ],
      "metadata": {
        "id": "btDQDQLenve0"
      },
      "execution_count": 11,
      "outputs": []
    },
    {
      "cell_type": "code",
      "source": [
        "def main():\n",
        "  window_size = 15\n",
        "\n",
        "  adaptive_singh_threshold_0(window_size)\n",
        "\n",
        "if __name__ == '__main__':\n",
        "    main()"
      ],
      "metadata": {
        "id": "UQfGe6s-8ytG"
      },
      "execution_count": 12,
      "outputs": []
    }
  ]
}