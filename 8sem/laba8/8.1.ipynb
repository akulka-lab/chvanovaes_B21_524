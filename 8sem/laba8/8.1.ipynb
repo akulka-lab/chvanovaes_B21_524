{
  "nbformat": 4,
  "nbformat_minor": 0,
  "metadata": {
    "colab": {
      "provenance": []
    },
    "kernelspec": {
      "name": "python3",
      "display_name": "Python 3"
    },
    "language_info": {
      "name": "python"
    }
  },
  "cells": [
    {
      "cell_type": "markdown",
      "source": [
        "**Лабораторная работа №8. Текстурный анализ и контрастирование**"
      ],
      "metadata": {
        "id": "16u0gyGsxaPp"
      }
    },
    {
      "cell_type": "code",
      "source": [
        "from PIL import Image, ImageDraw, ImageFont\n",
        "from PIL.ImageOps import invert\n",
        "import matplotlib.pyplot as plt\n",
        "from os import path\n",
        "import numpy as np\n",
        "from numpy import log\n",
        "from numpy import mean\n",
        "from math import pow, log, log2, floor"
      ],
      "metadata": {
        "id": "PQ1XbyXo5s8T"
      },
      "execution_count": 1,
      "outputs": []
    },
    {
      "cell_type": "markdown",
      "source": [
        "Вариант 1\n",
        "\n",
        "Параметры матрицы:\n",
        "d=1, phi = {0, 90, 180, 270}\n",
        "\n",
        "Харалика:\n",
        "ASM, MPR, ENT, TR\n",
        "\n",
        "Расчёт признаков Метод преобразования  яркости:\n",
        "Степенное преобразование"
      ],
      "metadata": {
        "id": "PJutiWRTyh7F"
      }
    },
    {
      "cell_type": "code",
      "execution_count": 2,
      "metadata": {
        "id": "tRpPlu9akhD7"
      },
      "outputs": [],
      "source": [
        "def monochrome(input_array):\n",
        "  height, width = input_array.shape[:2]\n",
        "  output_array = np.zeros((height, width), dtype=input_array.dtype)\n",
        "\n",
        "  for y in range(height):\n",
        "      for x in range(width):\n",
        "          output_array[y][x] = np.mean(input_array[y][x])\n",
        "\n",
        "  #return pim.fromarray(output_array, mode='L')\n",
        "  new_image = Image.fromarray(output_array)\n",
        "  new_image.save('new_image_monochrome.png')\n",
        "\n",
        "\n",
        "def haralik(input_array, d):\n",
        "    matrix = np.zeros(shape=(256, 256))\n",
        "\n",
        "    for x in range(d, input_array.shape[0] - d):\n",
        "        for y in range(d, input_array.shape[1] - d):\n",
        "            matrix[input_array[x - d, y], input_array[x, y]] += 1\n",
        "            matrix[input_array[x + d, y], input_array[x, y]] += 1\n",
        "            matrix[input_array[x, y - d], input_array[x, y]] += 1\n",
        "            matrix[input_array[x, y + d], input_array[x, y]] += 1\n",
        "\n",
        "    for x in range(256):\n",
        "        m = np.array(matrix[x])\n",
        "        m[np.where(m == 0)] = 1\n",
        "        matrix[x] = np.log(m)\n",
        "\n",
        "    matrix = matrix * 256 / np.max(matrix)\n",
        "    return matrix\n",
        "\n",
        "def ASM(input_array):\n",
        "    # Мера однородности изображения\n",
        "    sum = 0\n",
        "    for i in range(input_array.shape[0]):\n",
        "        for j in range(input_array.shape[1]):\n",
        "            sum += input_array[i, j] ** 2\n",
        "\n",
        "    return sum\n",
        "\n",
        "def MPR(input_array):\n",
        "    # Мера регулярности текстуры\n",
        "    row_sum = np.sum(input_array, axis=0)\n",
        "    sum = np.sum(row_sum ** 2)\n",
        "    return sum\n",
        "\n",
        "def ENT(input_array):\n",
        "    # Мера беспорядочности изображения\n",
        "    har_sum = np.sum(input_array)\n",
        "    if har_sum == 0:\n",
        "        return 0\n",
        "\n",
        "    px = input_array / har_sum\n",
        "    sum = -np.sum(px * np.log2(px + np.finfo(float).eps))\n",
        "    return sum\n",
        "\n",
        "def TR(input_array):\n",
        "    # Мера грубости текстуры изображения\n",
        "    row_sum = np.sum(input_array, axis=0)\n",
        "    col_sum = np.sum(input_array, axis=1)\n",
        "    row_sum_sq = np.sum(row_sum ** 2)\n",
        "    col_sum_sq = np.sum(col_sum ** 2)\n",
        "    sum = row_sum_sq + col_sum_sq\n",
        "    return sum"
      ]
    },
    {
      "cell_type": "code",
      "source": [
        "def contrast(input_array):\n",
        "    flat_img = input_array.flatten()\n",
        "    mn = round(mean(flat_img))\n",
        "\n",
        "    positiveRange = max(2, max(flat_img) - mn)\n",
        "    negativeRange = max(2, mn - min(flat_img))\n",
        "\n",
        "    positiveAlpha = 2 ** 7/ log(positiveRange)\n",
        "    negativeAlpha = 2 ** 7/ log(negativeRange)\n",
        "\n",
        "    res_img = np.zeros_like(input_array)\n",
        "\n",
        "    for i in range(input_array.shape[0]):\n",
        "        for j in range(input_array.shape[1]):\n",
        "            f = input_array[i, j] - mn\n",
        "            if f >= 1:\n",
        "                res_img[i, j] = mn + positiveAlpha * log(f)\n",
        "            elif f <= -1:\n",
        "                res_img[i, j] = mn - negativeAlpha * log(abs(f))\n",
        "            else:\n",
        "                res_img[i, j] = mn\n",
        "\n",
        "    new_image = Image.fromarray(res_img)\n",
        "    new_image.save('contrast.png')"
      ],
      "metadata": {
        "id": "3k7I8neqMgQ1"
      },
      "execution_count": 3,
      "outputs": []
    },
    {
      "cell_type": "code",
      "source": [
        "def main():\n",
        "    input_image = Image.open('oboi.png')\n",
        "    input_array = np.array(input_image)\n",
        "    monochrome(input_array)\n",
        "\n",
        "    input_image = Image.open('new_image_monochrome.png')\n",
        "    input_array = np.array(input_image)\n",
        "\n",
        "    figure, axis = plt.subplots(2, 1)\n",
        "    flattened_array = input_array.flatten()\n",
        "    axis[0].hist(x=flattened_array, bins=np.arange(0, 255))\n",
        "    axis[0].title.set_text('Исходное изображение')\n",
        "\n",
        "    d = 1\n",
        "    matrix = haralik(input_array, d)\n",
        "    new_image = Image.fromarray(matrix.astype(np.uint8))\n",
        "    new_image.save('haralik_1.png')\n",
        "\n",
        "    contrast(input_array)\n",
        "\n",
        "    print(f\"ASM: {ASM(matrix)}\")\n",
        "    print(f\"ASM (contrasted): {ASM(input_array)}\")\n",
        "\n",
        "    print(f\"MPR: {MPR(matrix)}\")\n",
        "    print(f\"MPR (contrasted): {MPR(input_array)}\")\n",
        "\n",
        "    print(f\"ENT: {ENT(matrix)}\")\n",
        "    print(f\"ENT (contrasted): {ENT(input_array)}\")\n",
        "\n",
        "    print(f\"TR: {TR(matrix)}\")\n",
        "    print(f\"TR (contrasted): {TR(input_array)}\")\n",
        "\n",
        "    input_image = Image.open('contrast.png')\n",
        "    input_array = np.array(input_image)\n",
        "\n",
        "    flattened_array = input_array.flatten()\n",
        "    axis[1].hist(x=flattened_array, bins=np.arange(0, 255))\n",
        "    axis[1].title.set_text('Преобразованное изображение')\n",
        "    plt.tight_layout()\n",
        "    plt.savefig('histograms.png')\n",
        "\n",
        "    d = 1\n",
        "    matrix = haralik(input_array, d)\n",
        "    new_image = Image.fromarray(matrix.astype(np.uint8))\n",
        "    new_image.save('haralik_2.png')\n",
        "\n",
        "if __name__ == '__main__':\n",
        "    main()"
      ],
      "metadata": {
        "colab": {
          "base_uri": "https://localhost:8080/",
          "height": 625
        },
        "id": "ZdScDeTUMsZq",
        "outputId": "75b2c7b1-9470-4c1e-af24-af832d546b52"
      },
      "execution_count": 5,
      "outputs": [
        {
          "output_type": "stream",
          "name": "stdout",
          "text": [
            "ASM: 137075228.45351624\n",
            "ASM (contrasted): 21560717226\n",
            "MPR: 24036530034.14299\n",
            "MPR (contrasted): 13559038754390\n",
            "ENT: 15.25168462704532\n",
            "ENT (contrasted): 19.855401409094043\n",
            "TR: 48072837033.281044\n",
            "TR (contrasted): 34644721629064\n"
          ]
        },
        {
          "output_type": "display_data",
          "data": {
            "text/plain": [
              "<Figure size 640x480 with 2 Axes>"
            ],
            "image/png": "[encoded data removed]"
          },
          "metadata": {}
        }
      ]
    }
  ]
}