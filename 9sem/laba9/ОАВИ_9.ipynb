{
  "nbformat": 4,
  "nbformat_minor": 0,
  "metadata": {
    "colab": {
      "provenance": []
    },
    "kernelspec": {
      "name": "python3",
      "display_name": "Python 3"
    },
    "language_info": {
      "name": "python"
    }
  },
  "cells": [
    {
      "cell_type": "markdown",
      "source": [
        "**Лабораторная работа №9. Анализ шума**"
      ],
      "metadata": {
        "id": "QMZrl-5wueFs"
      }
    },
    {
      "cell_type": "code",
      "source": [
        "import scipy.io.wavfile as wav\n",
        "import matplotlib.pyplot as plt\n",
        "from scipy import signal\n",
        "import numpy as np\n",
        "from math import factorial\n",
        "\n",
        "import os\n",
        "import itertools\n",
        "\n",
        "from scipy import signal\n",
        "from tqdm import tqdm\n",
        "\n",
        "dpi = 1000"
      ],
      "metadata": {
        "id": "yRlhgEhhQLoU"
      },
      "execution_count": null,
      "outputs": []
    },
    {
      "cell_type": "code",
      "source": [
        "def plot_spectrogram(fs, aud, name):\n",
        "    powerSpectrum, frequenciesFound, time, imageAxis = plt.specgram(aud, Fs=fs)\n",
        "    plt.ylabel('Частота [Гц]')\n",
        "    plt.xlabel('Время [с]')\n",
        "    plt.savefig('spectrogram_' + name + '.png')\n",
        "    plt.clf()\n",
        "    return powerSpectrum, frequenciesFound, time\n",
        "\n",
        "# Функция для применения фильтра Савицкого-Голея\n",
        "def savitzky_golay(fs, aud, cutoff_freuency, passes=1):\n",
        "    z = signal.savgol_filter(aud, 100, 3)\n",
        "    b, a = signal.butter(3, cutoff_freuency / fs)\n",
        "    zi = signal.lfilter_zi(b, a)\n",
        "    z, _ = signal.lfilter(b, a, z, zi = zi * z[0])\n",
        "    return z\n",
        "\n",
        "# Aильтр Баттерворта низких частот к входному сигналу\n",
        "def butter_filter(samples, order):\n",
        "    b, a = signal.butter(order, 0.1, btype='lowpass')\n",
        "    filtered_signal = signal.filtfilt(b, a, samples)\n",
        "\n",
        "    return filtered_signal\n",
        "\n",
        "def find_peaks(spec, freq, t, delta_t=0.1, delta_freq=50):\n",
        "    peaks = set()\n",
        "    delta_t = 0.1\n",
        "    delta_freq = 50\n",
        "\n",
        "    t_increment = int(delta_t * len(t) / (t[-1] - t[0]))\n",
        "    freq_increment = int(delta_freq * len(freq) / (freq[-1] - freq[0]))\n",
        "\n",
        "    for i, freq_val in enumerate(freq):\n",
        "        for j, time_val in enumerate(t):\n",
        "            t_min = max(0, j - t_increment)\n",
        "            t_max = min(len(t), j + t_increment + 1)\n",
        "            freq_min = max(0, i - freq_increment)\n",
        "            freq_max = min(len(freq), i + freq_increment + 1)\n",
        "\n",
        "            is_peak = True\n",
        "            for a in range(freq_min, freq_max):\n",
        "                for b in range(t_min, t_max):\n",
        "                    if (a != i or b != j) and spec[i, j] < spec[a, b]:\n",
        "                        is_peak = False\n",
        "                        break\n",
        "                if not is_peak:\n",
        "                    break\n",
        "\n",
        "            if is_peak:\n",
        "                peaks.add(time_val)\n",
        "\n",
        "    return peaks\n",
        "\n",
        "def to_pcm(y):\n",
        "    return np.int16(y / np.max(np.abs(y)) * 32000)\n",
        "\n",
        "def main():\n",
        "    fs, aud = wav.read('gita.wav')\n",
        "    aud = aud[:, 0]\n",
        "    plot_spectrogram(fs, aud, 'original')\n",
        "    wav.write('original.wav', fs, to_pcm(aud))\n",
        "\n",
        "    denoised_savgol = savitzky_golay(fs, aud, 1000)\n",
        "    plot_spectrogram(fs, denoised_savgol, 'denoised_savgol')\n",
        "    wav.write('denoised_savgol.wav', fs, to_pcm(denoised_savgol))\n",
        "\n",
        "    denoised_butter = butter_filter(denoised_savgol, 3)\n",
        "    spec, freq, time = plot_spectrogram(fs, denoised_butter, 'denoised_butter')\n",
        "    wav.write('denoised_butter.wav', fs, to_pcm(denoised_butter))\n",
        "\n",
        "    peaks = find_peaks(spec, freq, time)\n",
        "    with open('results.txt', 'w') as f:\n",
        "        f.write(\"Количество пиков:\" + str(len(peaks)) + '\\n')\n",
        "        for peak in peaks:\n",
        "            f.write(str(peak) + '\\n')\n",
        "\n",
        "if __name__ == \"__main__\":\n",
        "    main()"
      ],
      "metadata": {
        "colab": {
          "base_uri": "https://localhost:8080/",
          "height": 34
        },
        "id": "8uuRQPWjKmEg",
        "outputId": "1cafed2a-0465-46bd-f985-417d9c4d03db"
      },
      "execution_count": null,
      "outputs": [
        {
          "output_type": "display_data",
          "data": {
            "text/plain": [
              "<Figure size 640x480 with 0 Axes>"
            ]
          },
          "metadata": {}
        }
      ]
    }
  ]
}